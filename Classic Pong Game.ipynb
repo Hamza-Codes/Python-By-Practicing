{
 "cells": [
  {
   "cell_type": "markdown",
   "metadata": {},
   "source": [
    "# Classic Pong Game \n",
    "\n",
    "Two paddles of the left and right of the screen with the ball moving in between the paddles. "
   ]
  },
  {
   "cell_type": "code",
   "execution_count": 1,
   "metadata": {},
   "outputs": [],
   "source": [
    "import turtle # great for getting started with games. Let's us do some basic graphics. pygame is advanced.\n",
    "\n",
    "wn = turtle.Screen()\n",
    "wn.title(\"Pong by @HamzaCodes\")\n",
    "wn.bgcolor(\"black\")\n",
    "wn.setup(width=800,height=600)\n",
    "wn.tracer(0) # stops the window from updating so we have to update it manually\n"
   ]
  },
  {
   "cell_type": "code",
   "execution_count": null,
   "metadata": {},
   "outputs": [],
   "source": []
  }
 ],
 "metadata": {
  "interpreter": {
   "hash": "aee8b7b246df8f9039afb4144a1f6fd8d2ca17a180786b69acc140d282b71a49"
  },
  "kernelspec": {
   "display_name": "Python 3.10.4 64-bit",
   "language": "python",
   "name": "python3"
  },
  "language_info": {
   "codemirror_mode": {
    "name": "ipython",
    "version": 3
   },
   "file_extension": ".py",
   "mimetype": "text/x-python",
   "name": "python",
   "nbconvert_exporter": "python",
   "pygments_lexer": "ipython3",
   "version": "3.10.4"
  },
  "orig_nbformat": 4
 },
 "nbformat": 4,
 "nbformat_minor": 2
}
